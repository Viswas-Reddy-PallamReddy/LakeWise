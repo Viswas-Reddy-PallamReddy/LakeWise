{
  "cells": [
    {
      "cell_type": "markdown",
      "metadata": {
        "id": "Es1CF1V7W8Wj"
      },
      "source": [
        "# 🧪 **LakeWise: Stratified Sampling & Format Benchmarking on E-Commerce Data**"
      ]
    },
    {
      "cell_type": "markdown",
      "source": [
        "## 🧱 Lakehouse Layer Overview: Bronze, Silver, Gold\n",
        "\n",
        "- 🥉 **Bronze** — Raw data ingested from external sources (Kaggle)\n",
        "- 🥈 **Silver** — Processed and curated data using stratified and random sampling\n",
        "- 🥇 **Gold** — Analytics-optimized data in compressed Parquet format\n"
      ],
      "metadata": {
        "id": "Abtidp5Qm4nA"
      }
    },
    {
      "cell_type": "markdown",
      "metadata": {
        "id": "AQvr5o9ItKjN"
      },
      "source": [
        "### ⚙️ Install Project Dependencies"
      ]
    },
    {
      "cell_type": "code",
      "execution_count": 103,
      "metadata": {
        "id": "1s8KjNQFuSJm"
      },
      "outputs": [],
      "source": [
        "!pip install -q kaggle duckdb pyarrow tqdm psutil"
      ]
    },
    {
      "cell_type": "markdown",
      "source": [
        "### 🔗 Mount Google Drive and Create Lake Folders"
      ],
      "metadata": {
        "id": "YGIiOM7VTibH"
      }
    },
    {
      "cell_type": "code",
      "source": [
        "from pathlib import Path\n",
        "from google.colab import drive\n",
        "import os\n",
        "\n",
        "drive.mount('/content/drive', force_remount=True)\n",
        "PROJECT_FOLDER = \"/content/drive/MyDrive/LakeWise\"\n",
        "\n",
        "for layer in [\"Bronze\", \"Silver\", \"Gold\"]:\n",
        "    os.makedirs(f\"{PROJECT_FOLDER}/{layer}\", exist_ok=True)\n"
      ],
      "metadata": {
        "colab": {
          "base_uri": "https://localhost:8080/"
        },
        "id": "tLqjpn-OTi1x",
        "outputId": "ca3031a2-03b6-42c6-f314-4cd54e30e592"
      },
      "execution_count": 104,
      "outputs": [
        {
          "output_type": "stream",
          "name": "stdout",
          "text": [
            "Mounted at /content/drive\n"
          ]
        }
      ]
    },
    {
      "cell_type": "markdown",
      "metadata": {
        "id": "9egfClXKsXRD"
      },
      "source": [
        "### 🧾 Project Configuration"
      ]
    },
    {
      "cell_type": "code",
      "execution_count": 105,
      "metadata": {
        "id": "kxDAzfCvTiG8"
      },
      "outputs": [],
      "source": [
        "from pathlib import Path\n",
        "\n",
        "CONFIG = {\n",
        "    \"INPUT_CSV\": \"2019-Oct.csv\",\n",
        "    \"CHUNK_SIZE\": 100_000,\n",
        "    \"TARGET_SIZE\": 740_000,\n",
        "    \"SEED\": 42\n",
        "}\n",
        "\n",
        "BRONZE_PATH        = Path(f\"{PROJECT_FOLDER}/Bronze/{CONFIG['INPUT_CSV']}\")\n",
        "STRATIFIED_CSV     = Path(f\"{PROJECT_FOLDER}/Silver/stratified_sample_740K.csv\")\n",
        "STRATIFIED_PARQUET = Path(f\"{PROJECT_FOLDER}/Silver/stratified_sample_740K.parquet\")\n",
        "RANDOM_PARQUET     = Path(f\"{PROJECT_FOLDER}/Silver/random_sample_740K.parquet\")\n",
        "GOLD_PARQUET       = Path(f\"{PROJECT_FOLDER}/Gold/stratified_sample_740K_compressed.parquet\")\n"
      ]
    },
    {
      "cell_type": "markdown",
      "metadata": {
        "id": "vy1MVYvjs6uu"
      },
      "source": [
        "### 📥 Download E-Commerce Dataset (Bronze Layer)"
      ]
    },
    {
      "cell_type": "code",
      "source": [
        "from google.colab import files\n",
        "\n",
        "if not BRONZE_PATH.exists():\n",
        "    print(\"📥 CSV not found. Uploading Kaggle key and downloading dataset...\")\n",
        "    if not Path(\"kaggle.json\").exists():\n",
        "        uploaded = files.upload()\n",
        "    os.makedirs(\"/root/.kaggle\", exist_ok=True)\n",
        "    !cp kaggle.json ~/.kaggle/\n",
        "    !chmod 600 ~/.kaggle/kaggle.json\n",
        "    !kaggle datasets download -d mkechinov/ecommerce-behavior-data-from-multi-category-store\n",
        "    !unzip -n ecommerce-behavior-data-from-multi-category-store.zip -d ecommerce_data\n",
        "    !mv ecommerce_data/2019-Oct.csv \"{BRONZE_PATH}\"\n",
        "    print(\"✅ Dataset moved to Bronze layer.\")\n",
        "else:\n",
        "    print(f\"✅ Dataset already exists at {BRONZE_PATH}\")\n"
      ],
      "metadata": {
        "colab": {
          "base_uri": "https://localhost:8080/"
        },
        "id": "lfHd3pVKT4ey",
        "outputId": "8ba5fdef-9324-42db-b5bd-f76d811f9499"
      },
      "execution_count": 106,
      "outputs": [
        {
          "output_type": "stream",
          "name": "stdout",
          "text": [
            "✅ Dataset already exists at /content/drive/MyDrive/LakeWise/Bronze/2019-Oct.csv\n"
          ]
        }
      ]
    },
    {
      "cell_type": "code",
      "source": [
        "from collections import defaultdict\n",
        "import pandas as pd\n",
        "from tqdm import tqdm\n",
        "\n",
        "def summarize_full_dataset(file_path, chunk_size=100_000):\n",
        "    print(\"\\n📊 Summary of Complete Dataset (using chunked EDA):\")\n",
        "\n",
        "    total_rows = 0\n",
        "    missing_sum = defaultdict(int)\n",
        "    dtypes = {}\n",
        "    duplicate_rows = 0\n",
        "    sample_chunk = None\n",
        "    pbar = tqdm(pd.read_csv(file_path, chunksize=chunk_size), desc=\"🔍 Processing Chunks\", unit=\"chunk\")\n",
        "    for chunk in pbar:\n",
        "        total_rows += len(chunk)\n",
        "\n",
        "        # Keep sample chunk for describe/info\n",
        "        if sample_chunk is None:\n",
        "            sample_chunk = chunk.copy()\n",
        "\n",
        "        # Missing values\n",
        "        for col in chunk.columns:\n",
        "            missing_sum[col] += chunk[col].isnull().sum()\n",
        "\n",
        "        # Duplicates (only within chunk)\n",
        "        duplicate_rows += chunk.duplicated().sum()\n",
        "\n",
        "    print(f\"🧾 Total Rows: {total_rows:,}\")\n",
        "    print(\"🧼 Total Missing Values Across Entire File:\")\n",
        "    for col, count in missing_sum.items():\n",
        "        print(f\"  {col:<15}: {count:,}\")\n",
        "\n",
        "    print(f\"\\n🧼 Duplicates Within Chunks: {duplicate_rows:,} (note: inter-chunk dups not detected)\")\n",
        "\n",
        "    if sample_chunk is not None:\n",
        "        print(\"\\n🔍 Sample Info:\")\n",
        "        print(sample_chunk.info())\n",
        "        print(\"\\n🔢 Sample Describe:\")\n",
        "        print(sample_chunk.describe(include='all'))\n"
      ],
      "metadata": {
        "id": "Ei1A1GnAgce_"
      },
      "execution_count": 107,
      "outputs": []
    },
    {
      "cell_type": "code",
      "source": [
        "summarize_full_dataset(BRONZE_PATH, CONFIG['CHUNK_SIZE'])"
      ],
      "metadata": {
        "colab": {
          "base_uri": "https://localhost:8080/"
        },
        "id": "LTRostwZgdpX",
        "outputId": "03231252-9a14-4f99-daf2-5d9151b4eeb2"
      },
      "execution_count": 108,
      "outputs": [
        {
          "output_type": "stream",
          "name": "stdout",
          "text": [
            "\n",
            "📊 Summary of Complete Dataset (using chunked EDA):\n"
          ]
        },
        {
          "output_type": "stream",
          "name": "stderr",
          "text": [
            "🔍 Processing Chunks: 425chunk [03:02,  2.33chunk/s]\n"
          ]
        },
        {
          "output_type": "stream",
          "name": "stdout",
          "text": [
            "🧾 Total Rows: 42,448,764\n",
            "🧼 Total Missing Values Across Entire File:\n",
            "  event_time     : 0\n",
            "  event_type     : 0\n",
            "  product_id     : 0\n",
            "  category_id    : 0\n",
            "  category_code  : 13,515,609\n",
            "  brand          : 6,117,080\n",
            "  price          : 0\n",
            "  user_id        : 0\n",
            "  user_session   : 2\n",
            "\n",
            "🧼 Duplicates Within Chunks: 30,219 (note: inter-chunk dups not detected)\n",
            "\n",
            "🔍 Sample Info:\n",
            "<class 'pandas.core.frame.DataFrame'>\n",
            "RangeIndex: 100000 entries, 0 to 99999\n",
            "Data columns (total 9 columns):\n",
            " #   Column         Non-Null Count   Dtype  \n",
            "---  ------         --------------   -----  \n",
            " 0   event_time     100000 non-null  object \n",
            " 1   event_type     100000 non-null  object \n",
            " 2   product_id     100000 non-null  int64  \n",
            " 3   category_id    100000 non-null  int64  \n",
            " 4   category_code  67413 non-null   object \n",
            " 5   brand          85607 non-null   object \n",
            " 6   price          100000 non-null  float64\n",
            " 7   user_id        100000 non-null  int64  \n",
            " 8   user_session   100000 non-null  object \n",
            "dtypes: float64(1), int64(3), object(5)\n",
            "memory usage: 6.9+ MB\n",
            "None\n",
            "\n",
            "🔢 Sample Describe:\n",
            "                     event_time event_type    product_id   category_id  \\\n",
            "count                    100000     100000  1.000000e+05  1.000000e+05   \n",
            "unique                     8753          3           NaN           NaN   \n",
            "top     2019-10-01 04:05:18 UTC       view           NaN           NaN   \n",
            "freq                         34      97130           NaN           NaN   \n",
            "mean                        NaN        NaN  1.029819e+07  2.056094e+18   \n",
            "std                         NaN        NaN  1.113546e+07  1.490982e+16   \n",
            "min                         NaN        NaN  1.001588e+06  2.053014e+18   \n",
            "25%                         NaN        NaN  1.005124e+06  2.053014e+18   \n",
            "50%                         NaN        NaN  5.100580e+06  2.053014e+18   \n",
            "75%                         NaN        NaN  1.590169e+07  2.053014e+18   \n",
            "max                         NaN        NaN  5.310002e+07  2.175420e+18   \n",
            "\n",
            "                 category_code    brand          price       user_id  \\\n",
            "count                    67413    85607  100000.000000  1.000000e+05   \n",
            "unique                     123     1506            NaN           NaN   \n",
            "top     electronics.smartphone  samsung            NaN           NaN   \n",
            "freq                     26738    11683            NaN           NaN   \n",
            "mean                       NaN      NaN     286.827664  5.310909e+08   \n",
            "std                        NaN      NaN     360.304691  1.662030e+07   \n",
            "min                        NaN      NaN       0.000000  3.064418e+08   \n",
            "25%                        NaN      NaN      61.010000  5.156360e+08   \n",
            "50%                        NaN      NaN     154.380000  5.269649e+08   \n",
            "75%                        NaN      NaN     357.110000  5.477189e+08   \n",
            "max                        NaN      NaN    2574.070000  5.554835e+08   \n",
            "\n",
            "                                user_session  \n",
            "count                                 100000  \n",
            "unique                                 24382  \n",
            "top     dab9fcec-5ecd-428a-914d-d60f3f73d32c  \n",
            "freq                                     113  \n",
            "mean                                     NaN  \n",
            "std                                      NaN  \n",
            "min                                      NaN  \n",
            "25%                                      NaN  \n",
            "50%                                      NaN  \n",
            "75%                                      NaN  \n",
            "max                                      NaN  \n"
          ]
        }
      ]
    },
    {
      "cell_type": "markdown",
      "metadata": {
        "id": "QU3cPMAgY66K"
      },
      "source": [
        "### 🧠 Define LakeWise Sampling Class"
      ]
    },
    {
      "cell_type": "code",
      "source": [
        "from collections import defaultdict\n",
        "import pandas as pd\n",
        "import numpy as np\n",
        "from tqdm import tqdm\n",
        "\n",
        "class LakeWiseSampler:\n",
        "    def __init__(self, file_path, chunk_size, seed, enable_clean: bool = True, deduplicate: bool = True):\n",
        "        self.file_path     = file_path\n",
        "        self.chunk_size    = chunk_size\n",
        "        self.seed          = seed\n",
        "        self.enable_clean  = enable_clean\n",
        "        self.deduplicate   = deduplicate\n",
        "\n",
        "    def clean_chunk(self, chunk):\n",
        "        if not self.enable_clean:\n",
        "            return chunk\n",
        "        chunk = chunk.dropna().copy()\n",
        "        chunk[\"event_time\"]    = pd.to_datetime(chunk[\"event_time\"], errors=\"coerce\")\n",
        "        chunk[\"event_type\"]    = chunk[\"event_type\"].astype(\"category\")\n",
        "        chunk[\"category_code\"] = chunk[\"category_code\"].astype(\"category\")\n",
        "        chunk[\"brand\"]         = chunk[\"brand\"].astype(\"category\")\n",
        "        return chunk\n",
        "\n",
        "    def get_event_distribution(self, sample_size=1_000_000):\n",
        "        event_counts = defaultdict(int)\n",
        "        total_rows = 0\n",
        "        for chunk in pd.read_csv(self.file_path, chunksize=self.chunk_size):\n",
        "            chunk = self.clean_chunk(chunk)\n",
        "            for evt in chunk['event_type'].values:\n",
        "                event_counts[evt] += 1\n",
        "            total_rows += len(chunk)\n",
        "            if total_rows >= sample_size:\n",
        "                break\n",
        "        dist = {k: v / total_rows for k, v in event_counts.items()}\n",
        "        print(\"📊 Estimated Event Distribution:\")\n",
        "        for evt, pct in dist.items():\n",
        "            print(f\"{evt:<20}: {pct:.4f}\")\n",
        "        return dist\n",
        "\n",
        "    def stratified_sample(self, final_size):\n",
        "        dist = self.get_event_distribution()\n",
        "        target_counts = {evt: int(p * final_size) for evt, p in dist.items()}\n",
        "        sampled, collected = {evt: [] for evt in dist}, {evt: 0 for evt in dist}\n",
        "        total = 0\n",
        "        np.random.seed(self.seed)\n",
        "        for chunk in tqdm(pd.read_csv(self.file_path, chunksize=self.chunk_size)):\n",
        "            chunk = self.clean_chunk(chunk)\n",
        "            for evt in dist:\n",
        "                avail = chunk[chunk['event_type'] == evt]\n",
        "                need  = target_counts[evt] - collected[evt]\n",
        "                if need > 0:\n",
        "                    n = min(len(avail), need)\n",
        "                    sel = avail.sample(n, random_state=self.seed)\n",
        "                    sampled[evt].append(sel)\n",
        "                    collected[evt] += n\n",
        "                    total += n\n",
        "            if total >= final_size:\n",
        "                break\n",
        "        df = pd.concat([pd.concat(v) for v in sampled.values()], ignore_index=True)\n",
        "        if self.deduplicate:\n",
        "            df = df.drop_duplicates(ignore_index=True)\n",
        "        return df.sample(frac=1, random_state=self.seed)\n",
        "\n",
        "    def random_sample(self, final_size, total_rows=42_448_764):\n",
        "        chunks = []\n",
        "        seen = 0\n",
        "        np.random.seed(self.seed)\n",
        "        for chunk in tqdm(pd.read_csv(self.file_path, chunksize=self.chunk_size)):\n",
        "            chunk = self.clean_chunk(chunk)\n",
        "            seen += len(chunk)\n",
        "            remain = final_size - sum(len(c) for c in chunks)\n",
        "            if remain <= 0:\n",
        "                break\n",
        "            frac = remain / (total_rows - seen + len(chunk))\n",
        "            sel = chunk.sample(frac=min(frac, 1.0), random_state=self.seed)\n",
        "            chunks.append(sel)\n",
        "        df = pd.concat(chunks, ignore_index=True)\n",
        "        if self.deduplicate:\n",
        "            df = df.drop_duplicates(ignore_index=True)\n",
        "        if len(df) < final_size:\n",
        "            print(f\"⚠️ Only {len(df)} unique rows after dedup. Returning all.\")\n",
        "            return df\n",
        "        return df.sample(n=final_size, random_state=self.seed)\n"
      ],
      "metadata": {
        "id": "SV4K0bkOWCZq"
      },
      "execution_count": 109,
      "outputs": []
    },
    {
      "cell_type": "markdown",
      "source": [
        "### 🔄 Generate & Save Stratified Sample (Silver Layer)"
      ],
      "metadata": {
        "id": "hQcvHjilXSAk"
      }
    },
    {
      "cell_type": "code",
      "source": [
        "sampler = LakeWiseSampler(BRONZE_PATH, CONFIG['CHUNK_SIZE'], CONFIG['SEED'], enable_clean = True)\n",
        "\n",
        "if not STRATIFIED_PARQUET.exists():\n",
        "    df_strat = sampler.stratified_sample(CONFIG['TARGET_SIZE'])\n",
        "    df_strat.to_csv(STRATIFIED_CSV, index=False)\n",
        "    df_strat.to_parquet(STRATIFIED_PARQUET, index=False)\n",
        "    print(f\"✅ Stratified CSV & Parquet saved to Silver layer.\")\n",
        "else:\n",
        "    df_strat = pd.read_parquet(STRATIFIED_PARQUET)\n"
      ],
      "metadata": {
        "id": "hu9F6e-cXSbQ"
      },
      "execution_count": 110,
      "outputs": []
    },
    {
      "cell_type": "markdown",
      "source": [
        "### 🔁 Generate & Save Random Sample (Silver Layer)"
      ],
      "metadata": {
        "id": "dFPOVkwnXa6c"
      }
    },
    {
      "cell_type": "code",
      "source": [
        "if not RANDOM_PARQUET.exists():\n",
        "    df_rand = sampler.random_sample(CONFIG['TARGET_SIZE'])\n",
        "    df_rand.to_parquet(RANDOM_PARQUET, index=False)\n",
        "    print(f\"✅ Random Parquet saved to Silver layer.\")\n",
        "else:\n",
        "    df_rand = pd.read_parquet(RANDOM_PARQUET)"
      ],
      "metadata": {
        "id": "722cmZJ8Xba2"
      },
      "execution_count": 111,
      "outputs": []
    },
    {
      "cell_type": "markdown",
      "source": [
        "### 🥇 Save Compressed Output to Gold Layer"
      ],
      "metadata": {
        "id": "QN8_fFg5XhMG"
      }
    },
    {
      "cell_type": "code",
      "source": [
        "if not GOLD_PARQUET.exists():\n",
        "    df_strat.to_parquet(GOLD_PARQUET, compression='snappy', index=False)\n",
        "    print(f\"✅ Compressed Parquet saved to Gold layer.\")"
      ],
      "metadata": {
        "id": "LsNnOt4MXhjJ"
      },
      "execution_count": 112,
      "outputs": []
    },
    {
      "cell_type": "markdown",
      "metadata": {
        "id": "L9n1yCBaamQX"
      },
      "source": [
        "### 📊 Compare Event Distributions"
      ]
    },
    {
      "cell_type": "code",
      "execution_count": 113,
      "metadata": {
        "colab": {
          "base_uri": "https://localhost:8080/"
        },
        "id": "vLENpYVYamvc",
        "outputId": "0261417a-c74b-41f3-990e-430aa15d2d84"
      },
      "outputs": [
        {
          "output_type": "stream",
          "name": "stdout",
          "text": [
            "📊 Estimated Event Distribution:\n",
            "view                : 0.9594\n",
            "purchase            : 0.0201\n",
            "cart                : 0.0204\n"
          ]
        }
      ],
      "source": [
        "def compare_distributions(ref, samp, title):\n",
        "    print(f\"\\n🔍 Distribution Comparison: {title}\")\n",
        "    r = ref if isinstance(ref, dict) else ref['event_type'].value_counts(normalize=True).to_dict()\n",
        "    s = samp['event_type'].value_counts(normalize=True).to_dict()\n",
        "    for evt in r:\n",
        "        diff = abs(r[evt] - s.get(evt,0))\n",
        "        print(f\"{evt:<20}: Ref={r[evt]:.4f}, Samp={s.get(evt,0):.4f}, Δ={diff:.4f}\")\n",
        "\n",
        "orig_dist = sampler.get_event_distribution()"
      ]
    },
    {
      "cell_type": "markdown",
      "metadata": {
        "id": "syaSuLgTa5ZB"
      },
      "source": [
        "#### Stratified vs Original"
      ]
    },
    {
      "cell_type": "code",
      "execution_count": 114,
      "metadata": {
        "colab": {
          "base_uri": "https://localhost:8080/"
        },
        "id": "op_BUJP9bJrT",
        "outputId": "6974acb8-8aac-4d19-e40e-84e34b73e1b4"
      },
      "outputs": [
        {
          "output_type": "stream",
          "name": "stdout",
          "text": [
            "\n",
            "🔍 Distribution Comparison: Stratified vs Original\n",
            "view                : Ref=0.9594, Samp=0.9600, Δ=0.0005\n",
            "purchase            : Ref=0.0201, Samp=0.0202, Δ=0.0000\n",
            "cart                : Ref=0.0204, Samp=0.0199, Δ=0.0005\n"
          ]
        }
      ],
      "source": [
        "compare_distributions(orig_dist, df_strat, \"Stratified vs Original\")"
      ]
    },
    {
      "cell_type": "markdown",
      "metadata": {
        "id": "3Pxylbkfa_HG"
      },
      "source": [
        "#### Random vs Original"
      ]
    },
    {
      "cell_type": "code",
      "execution_count": 115,
      "metadata": {
        "colab": {
          "base_uri": "https://localhost:8080/"
        },
        "id": "5xlFoBSObLAP",
        "outputId": "78194958-093f-44bc-d57a-e232e9720fb6"
      },
      "outputs": [
        {
          "output_type": "stream",
          "name": "stdout",
          "text": [
            "\n",
            "🔍 Distribution Comparison: Random vs Original\n",
            "view                : Ref=0.9594, Samp=0.9484, Δ=0.0110\n",
            "purchase            : Ref=0.0201, Samp=0.0211, Δ=0.0010\n",
            "cart                : Ref=0.0204, Samp=0.0304, Δ=0.0100\n"
          ]
        }
      ],
      "source": [
        "compare_distributions(orig_dist, df_rand, \"Random vs Original\")"
      ]
    },
    {
      "cell_type": "markdown",
      "metadata": {
        "id": "_Mdm6CAAbA9_"
      },
      "source": [
        "#### Stratified vs Random"
      ]
    },
    {
      "cell_type": "code",
      "execution_count": 116,
      "metadata": {
        "colab": {
          "base_uri": "https://localhost:8080/"
        },
        "id": "nwC4HggfbNe0",
        "outputId": "6cb60b9d-2329-4e97-a29c-f98fe5eb65bd"
      },
      "outputs": [
        {
          "output_type": "stream",
          "name": "stdout",
          "text": [
            "\n",
            "🔍 Distribution Comparison: Stratified vs Random\n",
            "view                : Ref=0.9484, Samp=0.9600, Δ=0.0115\n",
            "cart                : Ref=0.0304, Samp=0.0199, Δ=0.0105\n",
            "purchase            : Ref=0.0211, Samp=0.0202, Δ=0.0010\n"
          ]
        }
      ],
      "source": [
        "compare_distributions(df_rand, df_strat, \"Stratified vs Random\")"
      ]
    },
    {
      "cell_type": "markdown",
      "metadata": {
        "id": "3Q88vdgebUnw"
      },
      "source": [
        "## 📦 File Size Comparison (Silver & Gold)"
      ]
    },
    {
      "cell_type": "code",
      "execution_count": 117,
      "metadata": {
        "colab": {
          "base_uri": "https://localhost:8080/"
        },
        "id": "v_RvIM8ZbZLC",
        "outputId": "cb850939-17ee-411f-ca2e-f3fb928b588f"
      },
      "outputs": [
        {
          "output_type": "stream",
          "name": "stdout",
          "text": [
            "\n",
            "📦 File Size Comparison:\n",
            "CSV            : 101.03 MB\n",
            "Parquet        : 34.44 MB\n",
            "Parquet+Snappy : 37.25 MB\n"
          ]
        }
      ],
      "source": [
        "def get_file_size_mb(path: Path) -> float:\n",
        "    return path.stat().st_size / (1024 * 1024)\n",
        "\n",
        "print(\"\\n📦 File Size Comparison:\")\n",
        "print(f\"CSV            : {get_file_size_mb(STRATIFIED_CSV):.2f} MB\")\n",
        "print(f\"Parquet        : {get_file_size_mb(STRATIFIED_PARQUET):.2f} MB\")\n",
        "print(f\"Parquet+Snappy : {get_file_size_mb(GOLD_PARQUET):.2f} MB\")\n"
      ]
    },
    {
      "cell_type": "markdown",
      "metadata": {
        "id": "BDsIc8uVbb2e"
      },
      "source": [
        "### ⏱️ Benchmark Read Time (CSV vs Parquet vs Compressed)"
      ]
    },
    {
      "cell_type": "code",
      "execution_count": 118,
      "metadata": {
        "id": "eDXjOnClbcZn"
      },
      "outputs": [],
      "source": [
        "import time\n",
        "from tqdm import tqdm\n",
        "import numpy as np\n",
        "\n",
        "def benchmark_read(path, fn, label, trials=50):\n",
        "    times = []\n",
        "    for _ in tqdm(range(trials), desc=f\"Measuring {label}\"):\n",
        "        start = time.time()\n",
        "        _ = fn(path)\n",
        "        times.append(time.time()-start)\n",
        "    return np.array(times)"
      ]
    },
    {
      "cell_type": "code",
      "execution_count": 119,
      "metadata": {
        "colab": {
          "base_uri": "https://localhost:8080/"
        },
        "id": "Q0xcyDlJbxTa",
        "outputId": "9e8768f3-a991-4066-c273-8c4481be5b45"
      },
      "outputs": [
        {
          "output_type": "stream",
          "name": "stdout",
          "text": [
            "✅ Timing results loaded from Drive\n"
          ]
        }
      ],
      "source": [
        "csv_times_path        = Path(PROJECT_FOLDER) / \"csv_times.npy\"\n",
        "parquet_times_path    = Path(PROJECT_FOLDER) / \"parquet_times.npy\"\n",
        "compressed_times_path = Path(PROJECT_FOLDER) / \"compressed_times.npy\"\n",
        "run_read_times = False\n",
        "\n",
        "if not run_read_times or all(p.exists() for p in [csv_times_path, parquet_times_path, compressed_times_path]):\n",
        "    print(\"✅ Timing results loaded from Drive\")\n",
        "    csv_times        = np.load(csv_times_path)\n",
        "    parquet_times    = np.load(parquet_times_path)\n",
        "    compressed_times = np.load(compressed_times_path)\n",
        "else:\n",
        "    print(\"⚙️ Measuring and saving timing results...\")\n",
        "    csv_times        = benchmark_read(STRATIFIED_CSV, pd.read_csv,       \"CSV\")\n",
        "    parquet_times    = benchmark_read(STRATIFIED_PARQUET, pd.read_parquet, \"Parquet\")\n",
        "    compressed_times = benchmark_read(GOLD_PARQUET,     pd.read_parquet, \"Parquet+Snappy\")\n",
        "\n",
        "    # Persist to Drive\n",
        "    np.save(csv_times_path,        csv_times)\n",
        "    np.save(parquet_times_path,    parquet_times)\n",
        "    np.save(compressed_times_path, compressed_times)\n",
        "    print(\"✅ Timing results saved to Drive\")\n"
      ]
    },
    {
      "cell_type": "code",
      "source": [
        "print(\"\\n📈 Read Time Stats (mean ± std in seconds):\")\n",
        "print(f\"CSV             : {np.mean(csv_times):.4f} ± {np.std(csv_times):.4f}\")\n",
        "print(f\"Parquet         : {np.mean(parquet_times):.4f} ± {np.std(parquet_times):.4f}\")\n",
        "print(f\"Parquet+Snappy  : {np.mean(compressed_times):.4f} ± {np.std(compressed_times):.4f}\")"
      ],
      "metadata": {
        "colab": {
          "base_uri": "https://localhost:8080/"
        },
        "id": "Y0NKNMHof75x",
        "outputId": "bd550752-6e67-487d-8440-84c65b3a99bd"
      },
      "execution_count": 120,
      "outputs": [
        {
          "output_type": "stream",
          "name": "stdout",
          "text": [
            "\n",
            "📈 Read Time Stats (mean ± std in seconds):\n",
            "CSV             : 2.3809 ± 0.3930\n",
            "Parquet         : 0.9190 ± 0.2279\n",
            "Parquet+Snappy  : 0.9096 ± 0.2288\n"
          ]
        }
      ]
    },
    {
      "cell_type": "markdown",
      "metadata": {
        "id": "DbwKivoxbyuD"
      },
      "source": [
        "#### Comparision"
      ]
    },
    {
      "cell_type": "code",
      "execution_count": 121,
      "metadata": {
        "id": "LLyzpf1Kb1Tu",
        "colab": {
          "base_uri": "https://localhost:8080/"
        },
        "outputId": "2683ef20-e066-4af8-f3da-9b59b3725a95"
      },
      "outputs": [
        {
          "output_type": "stream",
          "name": "stdout",
          "text": [
            "\n",
            "🚀 Relative Speed Improvements:\n",
            "Parquet is ~61.4% faster than CSV\n",
            "Parquet+Snappy is ~61.8% faster than CSV\n"
          ]
        }
      ],
      "source": [
        "print(\"\\n🚀 Relative Speed Improvements:\")\n",
        "print(f\"Parquet is ~{100 * (1 - np.mean(parquet_times) / np.mean(csv_times)):.1f}% faster than CSV\")\n",
        "print(f\"Parquet+Snappy is ~{100 * (1 - np.mean(compressed_times) / np.mean(csv_times)):.1f}% faster than CSV\")"
      ]
    },
    {
      "cell_type": "markdown",
      "source": [
        "### 📈 Visualize Read Time Distribution (KDE)"
      ],
      "metadata": {
        "id": "l6QMqVWuYuQK"
      }
    },
    {
      "cell_type": "code",
      "source": [
        "import matplotlib.pyplot as plt\n",
        "import seaborn as sns\n",
        "\n",
        "plt.figure(figsize=(10,6))\n",
        "sns.kdeplot(csv_times, label=\"CSV\", fill=True)\n",
        "sns.kdeplot(parquet_times, label=\"Parquet\", fill=True)\n",
        "sns.kdeplot(compressed_times, label=\"Parquet+Snappy\", fill=True)\n",
        "plt.title(\"📊 Read Time Distribution (KDE)\")\n",
        "plt.xlabel(\"Seconds\")\n",
        "plt.ylabel(\"Density\")\n",
        "plt.legend()\n",
        "plt.show()"
      ],
      "metadata": {
        "colab": {
          "base_uri": "https://localhost:8080/",
          "height": 600
        },
        "id": "HLayURPIWiro",
        "outputId": "601e041f-3ced-4156-c527-56678d1f264d"
      },
      "execution_count": 122,
      "outputs": [
        {
          "output_type": "stream",
          "name": "stderr",
          "text": [
            "/usr/local/lib/python3.11/dist-packages/IPython/core/pylabtools.py:151: UserWarning: Glyph 128202 (\\N{BAR CHART}) missing from font(s) DejaVu Sans.\n",
            "  fig.canvas.print_figure(bytes_io, **kw)\n"
          ]
        },
        {
          "output_type": "display_data",
          "data": {
            "text/plain": [
              "<Figure size 1000x600 with 1 Axes>"
            ],
            "image/png": "[encoded data removed]"
          },
          "metadata": {}
        }
      ]
    },
    {
      "cell_type": "markdown",
      "source": [
        "### 🧠 Memory Usage Snapshot"
      ],
      "metadata": {
        "id": "TsCH3S1VYxuV"
      }
    },
    {
      "cell_type": "code",
      "source": [
        "import psutil\n",
        "print(f\"\\n💡 RAM Used: {psutil.Process().memory_info().rss/1024**2:.2f} MB\")"
      ],
      "metadata": {
        "colab": {
          "base_uri": "https://localhost:8080/"
        },
        "id": "JjokT9BOYyB8",
        "outputId": "844a7bf5-b698-457d-f811-c816deaf576a"
      },
      "execution_count": 123,
      "outputs": [
        {
          "output_type": "stream",
          "name": "stdout",
          "text": [
            "\n",
            "💡 RAM Used: 843.69 MB\n"
          ]
        }
      ]
    },
    {
      "cell_type": "markdown",
      "source": [
        "### EDA"
      ],
      "metadata": {
        "id": "kpl-2Rmi0Zdy"
      }
    },
    {
      "cell_type": "code",
      "source": [
        "# Load stratified dataset\n",
        "import pandas as pd\n",
        "\n",
        "df = pd.read_parquet(STRATIFIED_PARQUET)  # or use STRATIFIED_CSV if preferred\n",
        "\n",
        "print(\"🧾 Dataset Info:\")\n",
        "print(df.info())\n",
        "\n",
        "\n",
        "print(\"\\n🔢 Basic Statistics:\")\n",
        "print(df.describe(include='all'))\n"
      ],
      "metadata": {
        "colab": {
          "base_uri": "https://localhost:8080/"
        },
        "id": "NA8CtBa-0Yv3",
        "outputId": "c2a0838f-ed56-4e50-eab4-810e4e3a578c"
      },
      "execution_count": 124,
      "outputs": [
        {
          "output_type": "stream",
          "name": "stdout",
          "text": [
            "🧾 Dataset Info:\n",
            "<class 'pandas.core.frame.DataFrame'>\n",
            "RangeIndex: 739551 entries, 0 to 739550\n",
            "Data columns (total 9 columns):\n",
            " #   Column         Non-Null Count   Dtype              \n",
            "---  ------         --------------   -----              \n",
            " 0   event_time     739551 non-null  datetime64[ns, UTC]\n",
            " 1   event_type     739551 non-null  category           \n",
            " 2   product_id     739551 non-null  int64              \n",
            " 3   category_id    739551 non-null  int64              \n",
            " 4   category_code  739551 non-null  object             \n",
            " 5   brand          739551 non-null  object             \n",
            " 6   price          739551 non-null  float64            \n",
            " 7   user_id        739551 non-null  int64              \n",
            " 8   user_session   739551 non-null  object             \n",
            "dtypes: category(1), datetime64[ns, UTC](1), float64(1), int64(3), object(3)\n",
            "memory usage: 45.8+ MB\n",
            "None\n",
            "\n",
            "🔢 Basic Statistics:\n",
            "                                 event_time event_type    product_id  \\\n",
            "count                                739551     739551  7.395510e+05   \n",
            "unique                                  NaN          3           NaN   \n",
            "top                                     NaN       view           NaN   \n",
            "freq                                    NaN     709932           NaN   \n",
            "mean    2019-10-01 11:31:20.341773312+00:00        NaN  5.417207e+06   \n",
            "min               2019-10-01 00:00:00+00:00        NaN  1.001588e+06   \n",
            "25%               2019-10-01 07:31:11+00:00        NaN  1.004846e+06   \n",
            "50%               2019-10-01 11:42:48+00:00        NaN  1.480677e+06   \n",
            "75%               2019-10-01 15:43:42+00:00        NaN  5.100694e+06   \n",
            "max               2019-10-02 02:48:53+00:00        NaN  5.390001e+07   \n",
            "std                                     NaN        NaN  8.184347e+06   \n",
            "\n",
            "         category_id           category_code    brand          price  \\\n",
            "count   7.395510e+05                  739551   739551  739551.000000   \n",
            "unique           NaN                     122     1231            NaN   \n",
            "top              NaN  electronics.smartphone  samsung            NaN   \n",
            "freq             NaN                  321108   136332            NaN   \n",
            "mean    2.055551e+18                     NaN      NaN     364.544246   \n",
            "min     2.053014e+18                     NaN      NaN       0.880000   \n",
            "25%     2.053014e+18                     NaN      NaN     102.710000   \n",
            "50%     2.053014e+18                     NaN      NaN     205.900000   \n",
            "75%     2.053014e+18                     NaN      NaN     464.050000   \n",
            "max     2.172371e+18                     NaN      NaN    2574.070000   \n",
            "std     1.511139e+16                     NaN      NaN     401.646350   \n",
            "\n",
            "             user_id                          user_session  \n",
            "count   7.395510e+05                                739551  \n",
            "unique           NaN                                182785  \n",
            "top              NaN  a7081bbb-82b3-4917-9e20-da3af7e00d59  \n",
            "freq             NaN                                   191  \n",
            "mean    5.315988e+08                                   NaN  \n",
            "min     2.449511e+08                                   NaN  \n",
            "25%     5.157659e+08                                   NaN  \n",
            "50%     5.277148e+08                                   NaN  \n",
            "75%     5.485752e+08                                   NaN  \n",
            "max     5.558392e+08                                   NaN  \n",
            "std     1.681557e+07                                   NaN  \n"
          ]
        }
      ]
    },
    {
      "cell_type": "code",
      "source": [
        "print(\"🧼 Missing Values:\")\n",
        "print(df.isnull().sum())\n",
        "\n",
        "print(\"\\n🧼 Duplicates:\")\n",
        "print(f\"Duplicate rows: {df.duplicated().sum()}\")\n"
      ],
      "metadata": {
        "colab": {
          "base_uri": "https://localhost:8080/"
        },
        "id": "L8fUWRqn0u-x",
        "outputId": "17e37f02-19b3-4755-8067-f70952bbd36c"
      },
      "execution_count": 125,
      "outputs": [
        {
          "output_type": "stream",
          "name": "stdout",
          "text": [
            "🧼 Missing Values:\n",
            "event_time       0\n",
            "event_type       0\n",
            "product_id       0\n",
            "category_id      0\n",
            "category_code    0\n",
            "brand            0\n",
            "price            0\n",
            "user_id          0\n",
            "user_session     0\n",
            "dtype: int64\n",
            "\n",
            "🧼 Duplicates:\n",
            "Duplicate rows: 0\n"
          ]
        }
      ]
    },
    {
      "cell_type": "code",
      "source": [
        "import matplotlib.pyplot as plt\n",
        "\n",
        "df['event_time'] = pd.to_datetime(df['event_time'], errors='coerce')\n",
        "df['hour'] = df['event_time'].dt.hour\n",
        "\n",
        "plt.figure(figsize=(10, 5))\n",
        "df['hour'].value_counts().sort_index().plot(kind='bar', color='teal')\n",
        "plt.title(\"🕒 Events per Hour of Day\")\n",
        "plt.xlabel(\"Hour\")\n",
        "plt.ylabel(\"Event Count\")\n",
        "plt.grid(axis='y')\n",
        "plt.show()\n"
      ],
      "metadata": {
        "colab": {
          "base_uri": "https://localhost:8080/",
          "height": 527
        },
        "id": "3uJU3mrZ0wt-",
        "outputId": "c00f2183-0b8c-47ca-d8c9-ab1bb3234c78"
      },
      "execution_count": 126,
      "outputs": [
        {
          "output_type": "stream",
          "name": "stderr",
          "text": [
            "/usr/local/lib/python3.11/dist-packages/IPython/core/pylabtools.py:151: UserWarning: Glyph 128338 (\\N{CLOCK FACE THREE OCLOCK}) missing from font(s) DejaVu Sans.\n",
            "  fig.canvas.print_figure(bytes_io, **kw)\n"
          ]
        },
        {
          "output_type": "display_data",
          "data": {
            "text/plain": [
              "<Figure size 1000x500 with 1 Axes>"
            ],
            "image/png": "[encoded data removed]"
          },
          "metadata": {}
        }
      ]
    },
    {
      "cell_type": "code",
      "source": [
        "import seaborn as sns\n",
        "\n",
        "plt.figure(figsize=(8, 4))\n",
        "sns.countplot(data=df, x='event_type', palette='Set2')\n",
        "plt.title(\"📊 Event Type Distribution\")\n",
        "plt.ylabel(\"Count\")\n",
        "plt.grid(axis='y')\n",
        "plt.show()"
      ],
      "metadata": {
        "colab": {
          "base_uri": "https://localhost:8080/",
          "height": 538
        },
        "id": "oRnXW5hM0yaz",
        "outputId": "59b4377e-f23c-43c5-c273-f9f6361d2649"
      },
      "execution_count": 127,
      "outputs": [
        {
          "output_type": "stream",
          "name": "stderr",
          "text": [
            "/tmp/ipython-input-127-537139872.py:4: FutureWarning: \n",
            "\n",
            "Passing `palette` without assigning `hue` is deprecated and will be removed in v0.14.0. Assign the `x` variable to `hue` and set `legend=False` for the same effect.\n",
            "\n",
            "  sns.countplot(data=df, x='event_type', palette='Set2')\n",
            "/usr/local/lib/python3.11/dist-packages/IPython/core/pylabtools.py:151: UserWarning: Glyph 128202 (\\N{BAR CHART}) missing from font(s) DejaVu Sans.\n",
            "  fig.canvas.print_figure(bytes_io, **kw)\n"
          ]
        },
        {
          "output_type": "display_data",
          "data": {
            "text/plain": [
              "<Figure size 800x400 with 1 Axes>"
            ],
            "image/png": "[encoded data removed]"
          },
          "metadata": {}
        }
      ]
    },
    {
      "cell_type": "code",
      "source": [
        "print(\"🏷️ Top 10 Category Codes:\")\n",
        "print(df['category_code'].value_counts().head(10))\n",
        "\n",
        "print(\"\\n🏷️ Top 10 Brands:\")\n",
        "print(df['brand'].value_counts().head(10))"
      ],
      "metadata": {
        "colab": {
          "base_uri": "https://localhost:8080/"
        },
        "id": "d55QO8TP00Fk",
        "outputId": "7563e2fe-abdc-4a78-d4bc-e6f877779dcd"
      },
      "execution_count": 128,
      "outputs": [
        {
          "output_type": "stream",
          "name": "stdout",
          "text": [
            "🏷️ Top 10 Category Codes:\n",
            "category_code\n",
            "electronics.smartphone              321108\n",
            "electronics.clocks                   34764\n",
            "computers.notebook                   33698\n",
            "electronics.audio.headphone          30911\n",
            "electronics.video.tv                 25683\n",
            "appliances.environment.vacuum        19213\n",
            "appliances.kitchen.washer            18677\n",
            "appliances.kitchen.refrigerators     16322\n",
            "apparel.shoes                        14833\n",
            "computers.desktop                    11435\n",
            "Name: count, dtype: int64\n",
            "\n",
            "🏷️ Top 10 Brands:\n",
            "brand\n",
            "samsung    136332\n",
            "apple      120849\n",
            "xiaomi      69820\n",
            "huawei      32734\n",
            "lg          11731\n",
            "acer        11392\n",
            "lenovo      10860\n",
            "oppo        10038\n",
            "casio        9353\n",
            "hp           9224\n",
            "Name: count, dtype: int64\n"
          ]
        }
      ]
    },
    {
      "cell_type": "code",
      "source": [
        "plt.figure(figsize=(8, 5))\n",
        "sns.histplot(df['price'], bins=100, color='orange', kde=True)\n",
        "plt.title(\"💵 Price Distribution\")\n",
        "plt.xlabel(\"Price\")\n",
        "plt.ylabel(\"Frequency\")\n",
        "# plt.xlim(0, df['price'])  # Trim outliers for visibility\n",
        "plt.grid(axis='y')\n",
        "plt.show()\n"
      ],
      "metadata": {
        "colab": {
          "base_uri": "https://localhost:8080/",
          "height": 523
        },
        "id": "9Q-pIwL901jJ",
        "outputId": "ee712521-b0a1-4159-d1c6-5d07cdfea0ba"
      },
      "execution_count": 129,
      "outputs": [
        {
          "output_type": "stream",
          "name": "stderr",
          "text": [
            "/usr/local/lib/python3.11/dist-packages/IPython/core/pylabtools.py:151: UserWarning: Glyph 128181 (\\N{BANKNOTE WITH DOLLAR SIGN}) missing from font(s) DejaVu Sans.\n",
            "  fig.canvas.print_figure(bytes_io, **kw)\n"
          ]
        },
        {
          "output_type": "display_data",
          "data": {
            "text/plain": [
              "<Figure size 800x500 with 1 Axes>"
            ],
            "image/png": "[encoded data removed]"
          },
          "metadata": {}
        }
      ]
    },
    {
      "cell_type": "markdown",
      "source": [
        "### 🦆 DuckDB Query Time Benchmarking with Predicate Pushdown"
      ],
      "metadata": {
        "id": "LIv73iTa5w-O"
      }
    },
    {
      "cell_type": "code",
      "source": [
        "import duckdb\n",
        "import time\n",
        "import pandas as pd\n",
        "from pathlib import Path"
      ],
      "metadata": {
        "id": "YiaCMFYa5vkE"
      },
      "execution_count": 138,
      "outputs": []
    },
    {
      "cell_type": "code",
      "source": [
        "PARQUET_PATH = STRATIFIED_PARQUET\n",
        "CSV_PATH     = STRATIFIED_CSV"
      ],
      "metadata": {
        "id": "LbkGex2FE_4q"
      },
      "execution_count": 139,
      "outputs": []
    },
    {
      "cell_type": "code",
      "source": [
        "QUERIES = {\n",
        "    \"Simple Count\"     : \"SELECT COUNT(*) FROM {}\",\n",
        "    \"Price > 1000\"     : \"SELECT COUNT(*) FROM {} WHERE price > 1000\",\n",
        "    \"Only Purchase\"    : \"SELECT COUNT(*) FROM {} WHERE event_type = 'purchase'\",\n",
        "    \"Purchases > ₹1000\": \"SELECT COUNT(*) FROM {} WHERE event_type = 'purchase' AND price > 1000\"\n",
        "}\n"
      ],
      "metadata": {
        "id": "XKE3NfJnFGbh"
      },
      "execution_count": 140,
      "outputs": []
    },
    {
      "cell_type": "code",
      "source": [
        "import numpy as np\n",
        "import pandas as pd\n",
        "from tqdm import tqdm\n",
        "\n",
        "def run_duckdb_query_stats(path, query, file_type=\"parquet\", runs=1000):\n",
        "    ext = \"read_parquet\" if file_type == \"parquet\" else \"read_csv_auto\"\n",
        "    q = query.format(f\"{ext}('{path}')\")\n",
        "\n",
        "    times = []\n",
        "    con = duckdb.connect(database=':memory:')\n",
        "    for _ in tqdm(range(runs)):\n",
        "        start = time.time()\n",
        "        con.execute(q).fetchall()\n",
        "        times.append(time.time() - start)\n",
        "    con.close()\n",
        "\n",
        "    times = np.array(times)\n",
        "    avg_time = np.mean(times)\n",
        "    var_time = np.var(times)\n",
        "\n",
        "    return avg_time, var_time\n",
        "\n",
        "\n",
        "def benchmark_duckdb_queries(runs=100):\n",
        "    results = []\n",
        "    for name, query in QUERIES.items():\n",
        "        print(f\"\\n🔎 Benchmarking: {name} ({runs} runs)\")\n",
        "\n",
        "        parquet_avg, parquet_var = run_duckdb_query_stats(PARQUET_PATH, query, file_type=\"parquet\", runs=runs)\n",
        "        csv_avg, csv_var         = run_duckdb_query_stats(CSV_PATH, query, file_type=\"csv\", runs=runs)\n",
        "\n",
        "        results.append({\n",
        "            \"Query\"          : name,\n",
        "            \"Parquet Avg(s)\": round(parquet_avg, 6),\n",
        "            \"Parquet Var\"   : round(parquet_var, 8),\n",
        "            \"CSV Avg(s)\"    : round(csv_avg, 6),\n",
        "            \"CSV Var\"       : round(csv_var, 8),\n",
        "            \"Speedup (x)\"   : round(csv_avg / parquet_avg, 2) if parquet_avg > 0 else \"∞\"\n",
        "        })\n",
        "    return pd.DataFrame(results)\n"
      ],
      "metadata": {
        "id": "QGjvXM57FOxE"
      },
      "execution_count": 141,
      "outputs": []
    },
    {
      "cell_type": "code",
      "source": [
        "benchmark_results = benchmark_duckdb_queries(runs=100)\n",
        "\n",
        "print(\"\\n🦆 DuckDB Query Benchmark Results:\")\n",
        "print(benchmark_results.to_markdown(index=False))\n"
      ],
      "metadata": {
        "colab": {
          "base_uri": "https://localhost:8080/"
        },
        "id": "12W7WME_FRsh",
        "outputId": "c58485be-59e0-46dc-bd83-c626554db450"
      },
      "execution_count": 142,
      "outputs": [
        {
          "output_type": "stream",
          "name": "stdout",
          "text": [
            "\n",
            "🔎 Benchmarking: Simple Count (100 runs)\n"
          ]
        },
        {
          "output_type": "stream",
          "name": "stderr",
          "text": [
            "100%|██████████| 100/100 [00:00<00:00, 146.23it/s]\n",
            "100%|██████████| 100/100 [01:09<00:00,  1.43it/s]\n"
          ]
        },
        {
          "output_type": "stream",
          "name": "stdout",
          "text": [
            "\n",
            "🔎 Benchmarking: Price > 1000 (100 runs)\n"
          ]
        },
        {
          "output_type": "stream",
          "name": "stderr",
          "text": [
            "100%|██████████| 100/100 [00:08<00:00, 12.39it/s]\n",
            "100%|██████████| 100/100 [01:06<00:00,  1.49it/s]\n"
          ]
        },
        {
          "output_type": "stream",
          "name": "stdout",
          "text": [
            "\n",
            "🔎 Benchmarking: Only Purchase (100 runs)\n"
          ]
        },
        {
          "output_type": "stream",
          "name": "stderr",
          "text": [
            "100%|██████████| 100/100 [00:03<00:00, 31.17it/s]\n",
            "100%|██████████| 100/100 [01:07<00:00,  1.48it/s]\n"
          ]
        },
        {
          "output_type": "stream",
          "name": "stdout",
          "text": [
            "\n",
            "🔎 Benchmarking: Purchases > ₹1000 (100 runs)\n"
          ]
        },
        {
          "output_type": "stream",
          "name": "stderr",
          "text": [
            "100%|██████████| 100/100 [00:04<00:00, 21.77it/s]\n",
            "100%|██████████| 100/100 [01:10<00:00,  1.42it/s]"
          ]
        },
        {
          "output_type": "stream",
          "name": "stdout",
          "text": [
            "\n",
            "🦆 DuckDB Query Benchmark Results:\n",
            "| Query             |   Parquet Avg(s) |   Parquet Var |   CSV Avg(s) |   CSV Var |   Speedup (x) |\n",
            "|:------------------|-----------------:|--------------:|-------------:|----------:|--------------:|\n",
            "| Simple Count      |         0.006705 |    5.23e-06   |     0.697775 | 0.0360341 |        104.06 |\n",
            "| Price > 1000      |         0.079125 |    0.00575214 |     0.667649 | 0.0250156 |          8.44 |\n",
            "| Only Purchase     |         0.031432 |    0.00012397 |     0.675518 | 0.0325422 |         21.49 |\n",
            "| Purchases > ₹1000 |         0.045303 |    0.00030262 |     0.701473 | 0.0292429 |         15.48 |\n"
          ]
        },
        {
          "output_type": "stream",
          "name": "stderr",
          "text": [
            "\n"
          ]
        }
      ]
    }
  ],
  "metadata": {
    "colab": {
      "toc_visible": true,
      "provenance": []
    },
    "kernelspec": {
      "display_name": "Python 3",
      "name": "python3"
    },
    "language_info": {
      "name": "python"
    }
  },
  "nbformat": 4,
  "nbformat_minor": 0
}